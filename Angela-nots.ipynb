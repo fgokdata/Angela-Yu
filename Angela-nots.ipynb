{
 "cells": [
  {
   "cell_type": "code",
   "execution_count": 1,
   "metadata": {},
   "outputs": [
    {
     "data": {
      "text/plain": [
       "1"
      ]
     },
     "execution_count": 1,
     "metadata": {},
     "output_type": "execute_result"
    }
   ],
   "source": [
    "# random \n",
    "\n",
    "import random\n",
    "\n",
    "random_int = random.randint(1,10)\n",
    "random_int"
   ]
  },
  {
   "cell_type": "code",
   "execution_count": 4,
   "metadata": {},
   "outputs": [
    {
     "data": {
      "text/plain": [
       "0.15152663965196667"
      ]
     },
     "execution_count": 4,
     "metadata": {},
     "output_type": "execute_result"
    }
   ],
   "source": [
    "random_float = random.random()\n",
    "random_float"
   ]
  },
  {
   "cell_type": "code",
   "execution_count": 5,
   "metadata": {},
   "outputs": [
    {
     "data": {
      "text/plain": [
       "4.639252313315669"
      ]
     },
     "execution_count": 5,
     "metadata": {},
     "output_type": "execute_result"
    }
   ],
   "source": [
    "random_float = random.random() * 5\n",
    "random_float"
   ]
  },
  {
   "cell_type": "code",
   "execution_count": 2,
   "metadata": {},
   "outputs": [
    {
     "name": "stdout",
     "output_type": "stream",
     "text": [
      "enter a sentence:\n",
      "salut les amis\n"
     ]
    }
   ],
   "source": [
    "# split \n",
    "\n",
    "sentence = input(\"enter a sentence:\\n\")\n"
   ]
  },
  {
   "cell_type": "code",
   "execution_count": 3,
   "metadata": {},
   "outputs": [
    {
     "data": {
      "text/plain": [
       "['salut', 'les', 'amis']"
      ]
     },
     "execution_count": 3,
     "metadata": {},
     "output_type": "execute_result"
    }
   ],
   "source": [
    "sentence.split()"
   ]
  },
  {
   "cell_type": "code",
   "execution_count": 15,
   "metadata": {},
   "outputs": [
    {
     "data": {
      "text/plain": [
       "['adeline', ' solene', ' moi']"
      ]
     },
     "execution_count": 15,
     "metadata": {},
     "output_type": "execute_result"
    }
   ],
   "source": [
    "import random\n",
    "\n",
    "names = \"adeline, solene, moi\"\n",
    "num_items = names.split(\",\")\n",
    "num_items"
   ]
  },
  {
   "cell_type": "code",
   "execution_count": 16,
   "metadata": {},
   "outputs": [
    {
     "data": {
      "text/plain": [
       "1"
      ]
     },
     "execution_count": 16,
     "metadata": {},
     "output_type": "execute_result"
    }
   ],
   "source": [
    "random_choice = random.randint(0, len(num_items) - 1)\n",
    "random_choice"
   ]
  },
  {
   "cell_type": "code",
   "execution_count": 19,
   "metadata": {},
   "outputs": [
    {
     "name": "stdout",
     "output_type": "stream",
     "text": [
      " solene is going to buy the meal today.\n"
     ]
    }
   ],
   "source": [
    "paiment = num_items[random_choice]\n",
    "\n",
    "print(paiment + \" is going to buy the meal today.\")"
   ]
  },
  {
   "cell_type": "code",
   "execution_count": 23,
   "metadata": {},
   "outputs": [
    {
     "data": {
      "text/plain": [
       "'adeline'"
      ]
     },
     "execution_count": 23,
     "metadata": {},
     "output_type": "execute_result"
    }
   ],
   "source": [
    "paiment = random.choice(num_items)\n",
    "paiment"
   ]
  },
  {
   "cell_type": "code",
   "execution_count": 24,
   "metadata": {},
   "outputs": [
    {
     "name": "stdout",
     "output_type": "stream",
     "text": [
      "apple\n",
      "apple Pie\n",
      "peach\n",
      "peach Pie\n",
      "pear\n",
      "pear Pie\n",
      "['apple', 'peach', 'pear']\n"
     ]
    }
   ],
   "source": [
    "# loops\n",
    "\n",
    "fruits = [\"apple\", \"peach\", \"pear\"]\n",
    "\n",
    "for fruit in fruits:\n",
    "    print(fruit)\n",
    "    print(fruit + \" Pie\")\n",
    "print(fruits)"
   ]
  },
  {
   "cell_type": "code",
   "execution_count": 26,
   "metadata": {},
   "outputs": [
    {
     "name": "stdout",
     "output_type": "stream",
     "text": [
      "input a list of student heights:\n",
      "156 178 198 180 183\n",
      "[156, 178, 198, 180, 183]\n"
     ]
    }
   ],
   "source": [
    "student_heights = input(\"input a list of student heights:\\n\").split()\n",
    "\n",
    "for n in range(0, len(student_heights)):\n",
    "    student_heights[n] = int(student_heights[n])\n",
    "print(student_heights)"
   ]
  },
  {
   "cell_type": "code",
   "execution_count": 27,
   "metadata": {},
   "outputs": [
    {
     "name": "stdout",
     "output_type": "stream",
     "text": [
      "895\n"
     ]
    }
   ],
   "source": [
    "# total height\n",
    "\n",
    "total_height = 0\n",
    "for height in student_heights:\n",
    "    total_height += height\n",
    "print(total_height)\n",
    "    "
   ]
  },
  {
   "cell_type": "code",
   "execution_count": 29,
   "metadata": {},
   "outputs": [
    {
     "name": "stdout",
     "output_type": "stream",
     "text": [
      "The highest score in the class is: 91\n"
     ]
    }
   ],
   "source": [
    "# highest score\n",
    "\n",
    "student_scores = [78, 65, 89, 86, 55, 91, 64, 89]\n",
    "\n",
    "highest_score = 0\n",
    "for score in student_scores:\n",
    "    if score > highest_score:\n",
    "        highest_score = score\n",
    "print(f\"The highest score in the class is: {highest_score}\")"
   ]
  },
  {
   "cell_type": "code",
   "execution_count": 30,
   "metadata": {},
   "outputs": [
    {
     "name": "stdout",
     "output_type": "stream",
     "text": [
      "5050\n"
     ]
    }
   ],
   "source": [
    "# for loops\n",
    "\n",
    "total = 0\n",
    "\n",
    "for number in range(1, 101):\n",
    "    total += number\n",
    "print(total)"
   ]
  },
  {
   "cell_type": "code",
   "execution_count": 33,
   "metadata": {},
   "outputs": [
    {
     "name": "stdout",
     "output_type": "stream",
     "text": [
      "2550\n"
     ]
    }
   ],
   "source": [
    "total1 = 0\n",
    "\n",
    "for number in range(2,101,2):\n",
    "    total1 += number\n",
    "print(total1)"
   ]
  },
  {
   "cell_type": "code",
   "execution_count": 34,
   "metadata": {},
   "outputs": [
    {
     "name": "stdout",
     "output_type": "stream",
     "text": [
      "2550\n"
     ]
    }
   ],
   "source": [
    "total2 = 0\n",
    "for number in range(1,101):\n",
    "    if number % 2 == 0:\n",
    "        total2 += number\n",
    "print(total2)"
   ]
  },
  {
   "cell_type": "code",
   "execution_count": 36,
   "metadata": {},
   "outputs": [
    {
     "name": "stdout",
     "output_type": "stream",
     "text": [
      "1\n",
      "2\n",
      "Fizz\n",
      "4\n",
      "Buzz\n",
      "Fizz\n",
      "7\n",
      "8\n",
      "Fizz\n",
      "Buzz\n",
      "11\n",
      "Fizz\n",
      "13\n",
      "14\n",
      "FizzBuzz\n",
      "16\n",
      "17\n",
      "Fizz\n",
      "19\n",
      "Buzz\n",
      "Fizz\n",
      "22\n",
      "23\n",
      "Fizz\n",
      "Buzz\n",
      "26\n",
      "Fizz\n",
      "28\n",
      "29\n",
      "FizzBuzz\n",
      "31\n",
      "32\n",
      "Fizz\n",
      "34\n",
      "Buzz\n",
      "Fizz\n",
      "37\n",
      "38\n",
      "Fizz\n",
      "Buzz\n",
      "41\n",
      "Fizz\n",
      "43\n",
      "44\n",
      "FizzBuzz\n",
      "46\n",
      "47\n",
      "Fizz\n",
      "49\n",
      "Buzz\n",
      "Fizz\n",
      "52\n",
      "53\n",
      "Fizz\n",
      "Buzz\n",
      "56\n",
      "Fizz\n",
      "58\n",
      "59\n",
      "FizzBuzz\n",
      "61\n",
      "62\n",
      "Fizz\n",
      "64\n",
      "Buzz\n",
      "Fizz\n",
      "67\n",
      "68\n",
      "Fizz\n",
      "Buzz\n",
      "71\n",
      "Fizz\n",
      "73\n",
      "74\n",
      "FizzBuzz\n",
      "76\n",
      "77\n",
      "Fizz\n",
      "79\n",
      "Buzz\n",
      "Fizz\n",
      "82\n",
      "83\n",
      "Fizz\n",
      "Buzz\n",
      "86\n",
      "Fizz\n",
      "88\n",
      "89\n",
      "FizzBuzz\n",
      "91\n",
      "92\n",
      "Fizz\n",
      "94\n",
      "Buzz\n",
      "Fizz\n",
      "97\n",
      "98\n",
      "Fizz\n",
      "Buzz\n"
     ]
    }
   ],
   "source": [
    "# fizzbuzz interview question\n",
    "\n",
    "for number in range(1,101):\n",
    "    if number % 3 == 0 and number % 5 == 0:\n",
    "        print(\"FizzBuzz\")\n",
    "    elif number % 3 == 0:\n",
    "        print(\"Fizz\")\n",
    "    elif number % 5 == 0:\n",
    "        print(\"Buzz\")\n",
    "    else:\n",
    "        print(number)\n",
    "   \n",
    "        "
   ]
  },
  {
   "cell_type": "code",
   "execution_count": 8,
   "metadata": {},
   "outputs": [],
   "source": [
    "# shuffle\n",
    "\n",
    "import random\n",
    "\n",
    "list1 = [\"1\",\"2\",6,9,78,56,24]\n",
    "\n",
    "list_random = random.shuffle(list1)\n"
   ]
  },
  {
   "cell_type": "code",
   "execution_count": 9,
   "metadata": {},
   "outputs": [],
   "source": [
    "list_random"
   ]
  },
  {
   "cell_type": "code",
   "execution_count": 10,
   "metadata": {},
   "outputs": [
    {
     "name": "stdout",
     "output_type": "stream",
     "text": [
      "None\n"
     ]
    }
   ],
   "source": [
    "print(list_random)"
   ]
  },
  {
   "cell_type": "code",
   "execution_count": 23,
   "metadata": {},
   "outputs": [
    {
     "name": "stdout",
     "output_type": "stream",
     "text": [
      "the solution is baboon.\n",
      "guess a letter:a\n",
      "wrong\n",
      "right\n",
      "wrong\n",
      "wrong\n",
      "wrong\n",
      "wrong\n"
     ]
    }
   ],
   "source": [
    "# FOR, IN --- right/wrong\n",
    "\n",
    "word_list = [\"ardvark\", \"baboon\", \"camel\"]\n",
    "\n",
    "import random\n",
    "chosen_word = random.choice(word_list)\n",
    "word_lenght = len(chosen_word)\n",
    "\n",
    "print(f\"the solution is {chosen_word}.\")\n",
    "\n",
    "guess = input(\"guess a letter:\").lower()\n",
    "\n",
    "for letter in chosen_word:\n",
    "    if letter == guess:\n",
    "        print(\"right\")\n",
    "    else:\n",
    "        print(\"wrong\")\n",
    "\n"
   ]
  },
  {
   "cell_type": "code",
   "execution_count": 24,
   "metadata": {},
   "outputs": [
    {
     "name": "stdout",
     "output_type": "stream",
     "text": [
      "['_', '_', '_', '_', '_', '_']\n"
     ]
    }
   ],
   "source": [
    "# 1.replacing blanks with guesses\n",
    "display = []\n",
    "for letter in chosen_word:\n",
    "    display += \"_\"\n",
    "print(display)\n"
   ]
  },
  {
   "cell_type": "code",
   "execution_count": 26,
   "metadata": {},
   "outputs": [
    {
     "name": "stdout",
     "output_type": "stream",
     "text": [
      "['_', 'a', '_', '_', '_', '_']\n"
     ]
    }
   ],
   "source": [
    "# 2.position letters\n",
    "\n",
    "for position in range(word_lenght):\n",
    "    letter = chosen_word[position]\n",
    "    if letter == guess:\n",
    "        display[position] = letter\n",
    "print(display)\n",
    "    "
   ]
  },
  {
   "cell_type": "code",
   "execution_count": null,
   "metadata": {},
   "outputs": [
    {
     "name": "stdout",
     "output_type": "stream",
     "text": [
      "guess a letter:a\n",
      "['_', 'a', '_', '_', '_', '_']\n"
     ]
    }
   ],
   "source": [
    "# 3.check if the player won\n",
    "end_of_game = False\n",
    "\n",
    "while not end_of_game:\n",
    "    \n",
    "    guess = input(\"guess a letter:\").lower()\n",
    "\n",
    "    for position in range(word_lenght):\n",
    "        letter = chosen_word[position]\n",
    "        if letter == guess:\n",
    "            display[position] = letter\n",
    "    print(display)\n",
    "    \n",
    "    if \"_\" not in display:\n",
    "        end_of_game = True\n",
    "        print(\"you win!\")"
   ]
  },
  {
   "cell_type": "code",
   "execution_count": null,
   "metadata": {},
   "outputs": [],
   "source": []
  }
 ],
 "metadata": {
  "kernelspec": {
   "display_name": "Python 3",
   "language": "python",
   "name": "python3"
  },
  "language_info": {
   "codemirror_mode": {
    "name": "ipython",
    "version": 3
   },
   "file_extension": ".py",
   "mimetype": "text/x-python",
   "name": "python",
   "nbconvert_exporter": "python",
   "pygments_lexer": "ipython3",
   "version": "3.8.5"
  }
 },
 "nbformat": 4,
 "nbformat_minor": 4
}
