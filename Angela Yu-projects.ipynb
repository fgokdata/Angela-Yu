{
 "cells": [
  {
   "cell_type": "code",
   "execution_count": 7,
   "metadata": {},
   "outputs": [
    {
     "name": "stdout",
     "output_type": "stream",
     "text": [
      "What is your name?john\n"
     ]
    },
    {
     "data": {
      "text/plain": [
       "'Hello john!'"
      ]
     },
     "execution_count": 7,
     "metadata": {},
     "output_type": "execute_result"
    }
   ],
   "source": [
    "\"Hello \" + input(\"What is your name?\") + \"!\""
   ]
  },
  {
   "cell_type": "code",
   "execution_count": 2,
   "metadata": {},
   "outputs": [
    {
     "name": "stdout",
     "output_type": "stream",
     "text": [
      "Please enter a two digit number \n",
      "25\n"
     ]
    }
   ],
   "source": [
    "# two digit number\n",
    "digit_number = input(\"Please enter a two digit number \\n\")"
   ]
  },
  {
   "cell_type": "code",
   "execution_count": 3,
   "metadata": {},
   "outputs": [],
   "source": [
    "first_digit = digit_number[0]\n",
    "second_digit = digit_number[1]\n",
    "\n",
    "result = first_digit + second_digit"
   ]
  },
  {
   "cell_type": "code",
   "execution_count": 4,
   "metadata": {},
   "outputs": [
    {
     "data": {
      "text/plain": [
       "'25'"
      ]
     },
     "execution_count": 4,
     "metadata": {},
     "output_type": "execute_result"
    }
   ],
   "source": [
    "result"
   ]
  },
  {
   "cell_type": "code",
   "execution_count": 5,
   "metadata": {},
   "outputs": [],
   "source": [
    "result = int(first_digit) + int(second_digit)"
   ]
  },
  {
   "cell_type": "code",
   "execution_count": 6,
   "metadata": {},
   "outputs": [
    {
     "data": {
      "text/plain": [
       "7"
      ]
     },
     "execution_count": 6,
     "metadata": {},
     "output_type": "execute_result"
    }
   ],
   "source": [
    "result"
   ]
  },
  {
   "cell_type": "code",
   "execution_count": 3,
   "metadata": {},
   "outputs": [
    {
     "name": "stdout",
     "output_type": "stream",
     "text": [
      "enter your age: \n",
      "37\n"
     ]
    },
    {
     "data": {
      "text/plain": [
       "'you have 19345 days, 2756 weeks, 636 months left'"
      ]
     },
     "execution_count": 3,
     "metadata": {},
     "output_type": "execute_result"
    }
   ],
   "source": [
    "# create a program using maths and f strings that tells us how many days, weeks, months \n",
    "#we have left if we live until 90 years old \n",
    "\n",
    "age = int(input(\"enter your age: \\n\"))\n",
    "\n",
    "years_remaining = 90 - age\n",
    "days_remaning = years_remaining * 365\n",
    "weeks_remaining = years_remaining * 52\n",
    "months_remaining = years_remaining * 12\n",
    "\n",
    "message = f\"you have {days_remaning} days, {weeks_remaining} weeks, {months_remaining} months left\"\n",
    "\n",
    "message"
   ]
  },
  {
   "cell_type": "code",
   "execution_count": 2,
   "metadata": {},
   "outputs": [
    {
     "name": "stdout",
     "output_type": "stream",
     "text": [
      "which year do you want to check?\n",
      "2000\n",
      "leap year\n"
     ]
    }
   ],
   "source": [
    "# leap year\n",
    "\n",
    "year = int(input(\"which year do you want to check?\\n\"))\n",
    "\n",
    "if year % 4 == 0:\n",
    "    if year % 100 == 0:\n",
    "        if year % 400 == 0:\n",
    "            print(\"leap year\")\n",
    "        else:\n",
    "            print(\"not leap year\")\n",
    "    else:\n",
    "        print(\"leap year\")\n",
    "else:\n",
    "    print(\"not leap year\")\n",
    "            "
   ]
  },
  {
   "cell_type": "code",
   "execution_count": 5,
   "metadata": {},
   "outputs": [
    {
     "name": "stdout",
     "output_type": "stream",
     "text": [
      "What is your name\n",
      "Ferdi Göksen\n",
      "What is their name\n",
      "Adriana Lima\n",
      "your love score is 43, you are alright together\n"
     ]
    }
   ],
   "source": [
    "# love calculator\n",
    "\n",
    "name1 = input(\"What is your name\\n\")\n",
    "name2 = input(\"What is their name\\n\")\n",
    "\n",
    "combined_name = name1 + name2\n",
    "\n",
    "lower_name =combined_name.lower()\n",
    "\n",
    "t = lower_name.count(\"t\")\n",
    "r = lower_name.count(\"r\")\n",
    "u = lower_name.count(\"u\")\n",
    "e = lower_name.count(\"e\")\n",
    "\n",
    "true = t + r + u + e\n",
    "\n",
    "l = lower_name.count(\"l\")\n",
    "o = lower_name.count(\"o\")\n",
    "v = lower_name.count(\"v\")\n",
    "e = lower_name.count(\"e\")\n",
    "\n",
    "love = l + o + v + e\n",
    "\n",
    "love_score = int(str(true) + str(love))\n",
    "\n",
    "if (love_score < 10) or (love_score > 90):\n",
    "    print(f\"your love score is {love_score}, you go together coke.\")\n",
    "elif (love_score >= 40) or (love_score <= 90):\n",
    "    print(f\"your love score is {love_score}, you are alright together\")\n",
    "else:\n",
    "    print(f\"your love score is {love_score}\")\n",
    "    \n"
   ]
  },
  {
   "cell_type": "code",
   "execution_count": 6,
   "metadata": {},
   "outputs": [
    {
     "data": {
      "text/plain": [
       "43"
      ]
     },
     "execution_count": 6,
     "metadata": {},
     "output_type": "execute_result"
    }
   ],
   "source": [
    "love_score"
   ]
  },
  {
   "cell_type": "code",
   "execution_count": 8,
   "metadata": {},
   "outputs": [
    {
     "name": "stdout",
     "output_type": "stream",
     "text": [
      "welcome to treasure island\n",
      "your mission is to find the treasure\n",
      "you're at a crossroad. where do you want to go? write \"left\" or \"right\"right\n",
      "you fell into hole, game over\n"
     ]
    }
   ],
   "source": [
    "# treasure island\n",
    "\n",
    "print(\"welcome to treasure island\")\n",
    "print(\"your mission is to find the treasure\")\n",
    "choice1 = input('you\\'re at a crossroad. where do you want to go? write \"left\" or \"right\"').lower()\n",
    "\n",
    "if choice1 == \"left\":\n",
    "    choice2 = input(\"write'wait' to wait the boat. write 'swim' to swim across\").lower()\n",
    "    if choice2 == \"wait\":\n",
    "        choice3 = input(\"which color dou you choose?\").lower()\n",
    "        if choice3 == \"red\":\n",
    "            print(\"there is fire, game over\")\n",
    "        elif choice3 == \"yellow\":\n",
    "            print(\"you found it!\")\n",
    "        elif choice3 == \"blue\":\n",
    "            print(\"game over\")\n",
    "        else:\n",
    "            print(\"you chose a door that does not exist, game over\")\n",
    "    else:\n",
    "\n",
    "        print(\"game over\")\n",
    "else:\n",
    "    print(\"you fell into hole, game over\")    "
   ]
  },
  {
   "cell_type": "code",
   "execution_count": 4,
   "metadata": {},
   "outputs": [
    {
     "name": "stdout",
     "output_type": "stream",
     "text": [
      "what do you choose? type 0 for rock, 1 for paper, 2 for scissors:\n",
      "1\n",
      "computer chose 1\n"
     ]
    }
   ],
   "source": [
    "# what do you choose? type 0 for rock, 1 for paper, 2 for scissors\n",
    "\n",
    "import random\n",
    "\n",
    "user_choice = int(input(\"what do you choose? type 0 for rock, 1 for paper, 2 for scissors:\\n\"))\n",
    "computer_choice = random.randint(0,2)\n",
    "\n",
    "print(f\"computer chose {computer_choice}\")"
   ]
  },
  {
   "cell_type": "code",
   "execution_count": 16,
   "metadata": {},
   "outputs": [
    {
     "name": "stdout",
     "output_type": "stream",
     "text": [
      "what do you choose? type 0 for rock, 1 for paper, 2 for scissors:\n",
      "1\n",
      "2\n",
      "you lose!\n"
     ]
    }
   ],
   "source": [
    "user_choice = int(input(\"what do you choose? type 0 for rock, 1 for paper, 2 for scissors:\\n\"))\n",
    "computer_choice = random.randint(0,2)\n",
    "print(computer_choice)\n",
    "\n",
    "if user_choice >= 3 or user_choice < 0:\n",
    "    print(\"invalid number, you lose!\")\n",
    "elif user_choice == 0 and computer_choice == 2:\n",
    "    print(\"you win!\")\n",
    "elif computer_choice == 0 and user_choice == 2:\n",
    "    print(\"you lose!\")\n",
    "elif computer_choice > user_choice:\n",
    "    print(\"you lose!\")\n",
    "elif user_choice > computer_choice:\n",
    "    print(\"you win!\")\n",
    "elif computer_choice == user_choice:\n",
    "    print(\"it is a draw\")"
   ]
  },
  {
   "cell_type": "code",
   "execution_count": null,
   "metadata": {},
   "outputs": [],
   "source": [
    "###\n",
    "def turn_right():\n",
    "    turn_left()\n",
    "    turn_left()\n",
    "    turn_left()\n",
    "\n",
    "while front_is_clear():\n",
    "    move()\n",
    "turn_left()    \n",
    "    \n",
    "while not at_goal():\n",
    "    if right_is_clear():\n",
    "        turn_right()\n",
    "        move()\n",
    "    elif front_is_clear():\n",
    "        move()\n",
    "    else:\n",
    "        turn_left\n",
    "        \n",
    "    \n",
    "\n"
   ]
  }
 ],
 "metadata": {
  "kernelspec": {
   "display_name": "Python 3",
   "language": "python",
   "name": "python3"
  },
  "language_info": {
   "codemirror_mode": {
    "name": "ipython",
    "version": 3
   },
   "file_extension": ".py",
   "mimetype": "text/x-python",
   "name": "python",
   "nbconvert_exporter": "python",
   "pygments_lexer": "ipython3",
   "version": "3.8.5"
  }
 },
 "nbformat": 4,
 "nbformat_minor": 4
}
